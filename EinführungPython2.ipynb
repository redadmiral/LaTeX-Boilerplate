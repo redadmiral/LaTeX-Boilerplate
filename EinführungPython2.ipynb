{
  "nbformat": 4,
  "nbformat_minor": 0,
  "metadata": {
    "colab": {
      "provenance": [],
      "authorship_tag": "ABX9TyOMlxuWE3JK9l+SR+WYA4Tj",
      "include_colab_link": true
    },
    "kernelspec": {
      "name": "python3",
      "display_name": "Python 3"
    },
    "language_info": {
      "name": "python"
    }
  },
  "cells": [
    {
      "cell_type": "markdown",
      "metadata": {
        "id": "view-in-github",
        "colab_type": "text"
      },
      "source": [
        "<a href=\"https://colab.research.google.com/github/redadmiral/LaTeX-Boilerplate/blob/master/Einf%C3%BChrungPython2.ipynb\" target=\"_parent\"><img src=\"https://colab.research.google.com/assets/colab-badge.svg\" alt=\"Open In Colab\"/></a>"
      ]
    },
    {
      "cell_type": "markdown",
      "source": [
        "# Einführung in Python 2\n",
        "\n",
        "Im ersten Teil haben wir die grundlegenden Bestandteile von Python kennengelernt: Wie wir Funktionen aufrufen und welche Datentypen es gibt.\n",
        "\n",
        "In diesem Teil beschäftigen wir uns damit selbst Funktionen zu schreiben und lernen Loops, also Schleifen kennen, mit denen wir viele Elemente mit wenig Code bearbeiten können."
      ],
      "metadata": {
        "id": "AslQS6DQlJTf"
      }
    },
    {
      "cell_type": "markdown",
      "source": [
        "## Funktionen\n",
        "\n",
        "Wir erinnern uns an die `print()`-Funktion. Wir übergeben ihr einen oder mehrere Strings, sie verarbeitet sie und gibt sie zurück.\n",
        "\n",
        "Das ist die grundlegende Idee hinter einer Funktion: Sie funktionieren wie kleine Daten-Maschinen. Wir geben etwas in sie hinein (den Input) sie verarbeiten es und geben das was sie verarbeitet haben wieder zurück.\n",
        "\n",
        "Solche Funktionen können wir auch selbst schreiben, man nennt das die Funktion definieren. Deshalb beginnen wir mit dem Wörtchen `def` wenn wir die Funktion definieren wollen. \n",
        "\n",
        "\n",
        "```python\n",
        "def\n",
        "```\n",
        "\n",
        "Darauf folgt der Name der Funktion:\n",
        "\n",
        "```python\n",
        "def double\n",
        "```\n",
        "\n",
        "Unsere Funktion wird eine Zahl verdoppeln, deshalb nennen wir sie `double`. Wir können ihr aber auch jeden anderen Namen geben den wir wollen. Es ist nur Konvention, dass wenn man mehrere Wörter verwendet, diese mit einem Unterstrich trennt, also z.B. `double_number` schreibt.\n",
        "\n",
        "Als nächstes bekommt die Funktion ein paar Klammern spendiert:\n",
        "\n",
        "```python\n",
        "def double()\n",
        "```\n",
        "\n",
        "In diese Klammern schreiben wir, was wir der Funktion übergeben, den sogeannanten Parameter.\n",
        "\n",
        "```python\n",
        "def double(number)\n",
        "```\n",
        "\n",
        "Und schließen das mit einem Doppelpunkt ab, damit Python weiß, dass jetzt der formale Teil abgeschlossen ist.\n",
        "\n",
        "```python\n",
        "def double(number):\n",
        "```\n",
        "\n",
        "Die nächste Zeile müssen wir mit zwei Leerzeichen einrücken, damit Python weiß, dass der folgende Teil noch zur Funktionsdefinition gehört. Das Colab-Notebook übernimmt das aber für uns automatisch. Hier schreiben wir was die Funktion machen soll, nämlich die übergebene Zahl `number` verdoppeln.\n",
        "\n",
        "\n",
        "```python\n",
        "def double(number):\n",
        "  result = number*2\n",
        "```\n",
        "\n",
        "Damit verdoppelt Python jetzt zwar die Zahl und schreibt sie in eine Variable `result`, aber gibt sie nicht wieder zurück. Dafür brauchen wir das `return`-Statement:\n",
        "\n",
        "```python\n",
        "def double(number):\n",
        "  result = number*2\n",
        "  return result\n",
        "```\n",
        "\n",
        "Damit haben wir unsere Funktion fertig gebaut: Wir können ihr eine Zahl übergeben, sie verarbeitet sie und gibt sie wieder zurück. \n",
        "\n",
        "Das können wir jetzt ausprobieren:\n"
      ],
      "metadata": {
        "id": "IzEGjtMQsbi4"
      }
    },
    {
      "cell_type": "code",
      "source": [
        "def double(number):\n",
        "  result = number*2\n",
        "  return result"
      ],
      "metadata": {
        "id": "W3IU4go23HoO"
      },
      "execution_count": null,
      "outputs": []
    },
    {
      "cell_type": "markdown",
      "source": [
        "Jetzt können wir die Funktion aufrufen, indem wir ihr eine Zahl übergeben:"
      ],
      "metadata": {
        "id": "AHke-Rt14XOG"
      }
    },
    {
      "cell_type": "code",
      "source": [
        "double(number=2)"
      ],
      "metadata": {
        "colab": {
          "base_uri": "https://localhost:8080/"
        },
        "id": "vfE2RmNB4XGA",
        "outputId": "0b48b8ab-a1bc-48d3-8bbf-ac93b15806f8"
      },
      "execution_count": null,
      "outputs": [
        {
          "output_type": "execute_result",
          "data": {
            "text/plain": [
              "4"
            ]
          },
          "metadata": {},
          "execution_count": 55
        }
      ]
    },
    {
      "cell_type": "markdown",
      "source": [
        "Eine Funktion kann natürlich auch mehrere Argumente nehmen. Wir können zum Beispiel eine Funktion schreiben, die beliebige Zahlen multipliziert:"
      ],
      "metadata": {
        "id": "XUt8x-jn4jmz"
      }
    },
    {
      "cell_type": "code",
      "source": [
        "def multiply(number, multiplier):\n",
        "  return number*multiplier\n",
        "\n",
        "multiply(number=2, multiplier=3)"
      ],
      "metadata": {
        "colab": {
          "base_uri": "https://localhost:8080/"
        },
        "id": "aNlo5NcF4vDq",
        "outputId": "af4a18f4-5931-4c62-e01f-59f195ee9015"
      },
      "execution_count": null,
      "outputs": [
        {
          "output_type": "execute_result",
          "data": {
            "text/plain": [
              "6"
            ]
          },
          "metadata": {},
          "execution_count": 53
        }
      ]
    },
    {
      "cell_type": "markdown",
      "source": [
        "Die Parameter in Funktionen können auch Standardwerte zugewiesen bekommen, so dass wir häufig benutzte Werte nicht immer wieder neu eingeben müssen. \n",
        "\n",
        "Wenn wir der `multiply()`-Funktion den Standardwert 2 für den multiplier geben, dann verdoppelt sie uns die Zahl wenn wir ihr nur ein Argument mitgeben."
      ],
      "metadata": {
        "id": "ICfKwmqX44ek"
      }
    },
    {
      "cell_type": "code",
      "source": [
        "def multiply(number, multiplier=2):\n",
        "  return number*multiplier\n",
        "\n",
        "multiply(number=2)"
      ],
      "metadata": {
        "colab": {
          "base_uri": "https://localhost:8080/"
        },
        "id": "HO_ewADZ5SKl",
        "outputId": "a1a5030e-c544-4e78-dfb2-6aaa811b9293"
      },
      "execution_count": null,
      "outputs": [
        {
          "output_type": "execute_result",
          "data": {
            "text/plain": [
              "4"
            ]
          },
          "metadata": {},
          "execution_count": 54
        }
      ]
    },
    {
      "cell_type": "markdown",
      "source": [
        "Diesen Standardwert können wir einfach überschreiben, indem wir der Funktion zwei Werte übergeben:"
      ],
      "metadata": {
        "id": "E23gVzMr5XVi"
      }
    },
    {
      "cell_type": "code",
      "source": [
        "multiply(number=2, multiplier=5)"
      ],
      "metadata": {
        "colab": {
          "base_uri": "https://localhost:8080/"
        },
        "id": "IXnZV84l5XLa",
        "outputId": "d0342ac7-e1e6-4fd8-e917-cf855b837606"
      },
      "execution_count": null,
      "outputs": [
        {
          "output_type": "execute_result",
          "data": {
            "text/plain": [
              "10"
            ]
          },
          "metadata": {},
          "execution_count": 56
        }
      ]
    },
    {
      "cell_type": "markdown",
      "source": [
        "Und es funktioniert auch die Namen der Paramter wegzulassen, auch wenn es dann ein wenig unübersichtlicher werden kann:"
      ],
      "metadata": {
        "id": "ycnJb1fy56Lm"
      }
    },
    {
      "cell_type": "code",
      "source": [
        "multiply(2, 5)"
      ],
      "metadata": {
        "colab": {
          "base_uri": "https://localhost:8080/"
        },
        "id": "ec1P07bl6APS",
        "outputId": "f02f43c4-59e7-4d0d-bfdf-0e66bb675859"
      },
      "execution_count": null,
      "outputs": [
        {
          "output_type": "execute_result",
          "data": {
            "text/plain": [
              "10"
            ]
          },
          "metadata": {},
          "execution_count": 57
        }
      ]
    },
    {
      "cell_type": "markdown",
      "source": [
        "## Einrückungen und Namespaces\n",
        "\n",
        "Wir haben bei der Funktions-Definition oben gesehen, dass wir einen Teil der Funktion ein wenig eingerückt haben. Wie gesagt, war das dafür dass Python weiß, was zur Funktion gehört und was nicht.\n",
        "\n",
        "Was oft verwirrend ist, ist dass Variablen, die in einer Einrückung definiert werden auch nur dort gelten. In einer Definition kann man aber auf die Variablen von einer Einrückungsstufe höher zugreifen:"
      ],
      "metadata": {
        "id": "liqdW_MJ7Bi8"
      }
    },
    {
      "cell_type": "code",
      "source": [
        "outside_var = 2\n",
        "\n",
        "def example():\n",
        "  return outside_var \n",
        "\n",
        "example()"
      ],
      "metadata": {
        "colab": {
          "base_uri": "https://localhost:8080/"
        },
        "id": "LnP0XfJU7BPR",
        "outputId": "8cab0d85-ffeb-4177-d500-b22a5f4f1aca"
      },
      "execution_count": null,
      "outputs": [
        {
          "output_type": "execute_result",
          "data": {
            "text/plain": [
              "2"
            ]
          },
          "metadata": {},
          "execution_count": 59
        }
      ]
    },
    {
      "cell_type": "markdown",
      "source": [],
      "metadata": {
        "id": "ajeUULdXlBzc"
      }
    },
    {
      "cell_type": "markdown",
      "source": [
        "Andersherum funktioniert das aber nicht:"
      ],
      "metadata": {
        "id": "XK7I09vX9Ms7"
      }
    },
    {
      "cell_type": "code",
      "source": [
        "def example():\n",
        "  inside_var = 2\n",
        "  return None\n",
        "\n",
        "inside_var"
      ],
      "metadata": {
        "colab": {
          "base_uri": "https://localhost:8080/",
          "height": 206
        },
        "id": "z2jT4Fj49Okt",
        "outputId": "a9639b21-eecf-467f-9f48-de6014adb83f"
      },
      "execution_count": null,
      "outputs": [
        {
          "output_type": "error",
          "ename": "NameError",
          "evalue": "ignored",
          "traceback": [
            "\u001b[0;31m---------------------------------------------------------------------------\u001b[0m",
            "\u001b[0;31mNameError\u001b[0m                                 Traceback (most recent call last)",
            "\u001b[0;32m<ipython-input-60-7ffda4f0a10a>\u001b[0m in \u001b[0;36m<module>\u001b[0;34m\u001b[0m\n\u001b[1;32m      3\u001b[0m   \u001b[0;32mreturn\u001b[0m \u001b[0;32mNone\u001b[0m\u001b[0;34m\u001b[0m\u001b[0;34m\u001b[0m\u001b[0m\n\u001b[1;32m      4\u001b[0m \u001b[0;34m\u001b[0m\u001b[0m\n\u001b[0;32m----> 5\u001b[0;31m \u001b[0minside_var\u001b[0m\u001b[0;34m\u001b[0m\u001b[0;34m\u001b[0m\u001b[0m\n\u001b[0m",
            "\u001b[0;31mNameError\u001b[0m: name 'inside_var' is not defined"
          ]
        }
      ]
    },
    {
      "cell_type": "markdown",
      "source": [
        "Das heißt auch, dass Variablennamen je nach Einrückung doppelt belegt sein können:"
      ],
      "metadata": {
        "id": "T1wxzM-k9cIl"
      }
    },
    {
      "cell_type": "code",
      "source": [
        "outside_var = 2\n",
        "\n",
        "def example():\n",
        "  outside_var = 10\n",
        "  return outside_var \n",
        "\n",
        "print(example(), outside_var)"
      ],
      "metadata": {
        "colab": {
          "base_uri": "https://localhost:8080/"
        },
        "id": "b6ZYkaOa9iEm",
        "outputId": "84a8c37f-5294-49b9-c887-0fe2b5b1b948"
      },
      "execution_count": null,
      "outputs": [
        {
          "output_type": "stream",
          "name": "stdout",
          "text": [
            "10 2\n"
          ]
        }
      ]
    },
    {
      "cell_type": "markdown",
      "source": [
        "Man spricht hier von verschiedenen \"Namespaces\", also Räume in denen Namen gelten. Jede Stufe der Einrückung macht einen neuen Namespace auf, so dass Namen die dort definiert werden nur hier und in niedrigeren Einrückungen gelten.\n",
        "\n",
        "Sowas macht den Code aber schwerer zu verstehen. Deshalb sollte man immer versuchen, Variablennamen nur einfach zu belegen."
      ],
      "metadata": {
        "id": "xb85Y-Ah9v9A"
      }
    },
    {
      "cell_type": "markdown",
      "source": [
        "## If/Else\n",
        "\n",
        "Sehr häufig müssen wir anhand eines Werts entscheiden, wie wir in unserem Programm weitermachen. Dafür haben wir `if`/`else`-Conditions. \n",
        "\n",
        "Sie funktionieren prinzipiell nach dem Prinzip: Wenn etwas erfüllt ist, dann mach das eine und wenn nicht, mach das andere. \n",
        "\n",
        "Zum Beispiel wollen wir wissen, ob eine Zahl größer oder kleiner ist als eine andere. Dann schreiben wir:"
      ],
      "metadata": {
        "id": "TLJzk1yDF08R"
      }
    },
    {
      "cell_type": "code",
      "source": [
        "number = 2\n",
        "\n",
        "if number > 10:\n",
        "  print(\"Number is larger than 10.\")\n",
        "else:\n",
        "  print(\"Number is smaller than 10.\")"
      ],
      "metadata": {
        "colab": {
          "base_uri": "https://localhost:8080/"
        },
        "id": "U7P9IQhhGUpv",
        "outputId": "ab72946c-81db-49bf-99b7-b8f014490221"
      },
      "execution_count": null,
      "outputs": [
        {
          "output_type": "stream",
          "name": "stdout",
          "text": [
            "Number is smaller than 10.\n"
          ]
        }
      ]
    },
    {
      "cell_type": "code",
      "source": [
        "number = 12\n",
        "\n",
        "if number > 10:\n",
        "  print(\"Number is larger than 10.\")\n",
        "else:\n",
        "  print(\"Number is smaller than 10.\")"
      ],
      "metadata": {
        "colab": {
          "base_uri": "https://localhost:8080/"
        },
        "id": "JfD0ABa1Gw7k",
        "outputId": "7ed5d892-ad1b-4c09-ccfc-ddf661c0720a"
      },
      "execution_count": null,
      "outputs": [
        {
          "output_type": "stream",
          "name": "stdout",
          "text": [
            "Number is larger than 10.\n"
          ]
        }
      ]
    },
    {
      "cell_type": "markdown",
      "source": [
        "Wenn wir mehrere Conditions haben, dann können wir noch `elif`-Conditions auf der Hälfte einführen:\n"
      ],
      "metadata": {
        "id": "te1McztiG1I2"
      }
    },
    {
      "cell_type": "code",
      "source": [
        "number = 7\n",
        "\n",
        "if number > 10:\n",
        "  print(\"Number is larger than 10.\")\n",
        "elif number > 5 and number <= 10:\n",
        "  print(\"Number is between 5 and 10\")\n",
        "else:\n",
        "  print(\"Number is smaller than 10.\")"
      ],
      "metadata": {
        "colab": {
          "base_uri": "https://localhost:8080/"
        },
        "id": "jpM-wk3VG_R5",
        "outputId": "773356ef-e908-4b93-b5a4-a6262586a8dc"
      },
      "execution_count": null,
      "outputs": [
        {
          "output_type": "stream",
          "name": "stdout",
          "text": [
            "Number is between 5 and 10\n"
          ]
        }
      ]
    },
    {
      "cell_type": "markdown",
      "source": [
        "Bei der `elif`-Condition sehen wir ein neues Konzept: Wir können Conditions mit `and` oder `or` verknüpfen. \n",
        "\n",
        "Bei einer Verknüpfung mit `and` müssen beide Seiten `True` sein, damit sie `True` zurückgibt:"
      ],
      "metadata": {
        "id": "igY9dK6JHUJG"
      }
    },
    {
      "cell_type": "code",
      "source": [
        "True and True"
      ],
      "metadata": {
        "colab": {
          "base_uri": "https://localhost:8080/"
        },
        "id": "ZzFbhjjeKSdY",
        "outputId": "08960009-8b8a-4aa4-d683-6351b0d42dfa"
      },
      "execution_count": null,
      "outputs": [
        {
          "output_type": "execute_result",
          "data": {
            "text/plain": [
              "True"
            ]
          },
          "metadata": {},
          "execution_count": 81
        }
      ]
    },
    {
      "cell_type": "code",
      "source": [
        "True and False"
      ],
      "metadata": {
        "colab": {
          "base_uri": "https://localhost:8080/"
        },
        "id": "aY2Ro3_AKURL",
        "outputId": "0e410159-511e-4f05-8640-18c9e3d801dc"
      },
      "execution_count": null,
      "outputs": [
        {
          "output_type": "execute_result",
          "data": {
            "text/plain": [
              "False"
            ]
          },
          "metadata": {},
          "execution_count": 82
        }
      ]
    },
    {
      "cell_type": "markdown",
      "source": [
        "Bei `or` muss nur eine Seite `True` sein, damit sie `True` zurückgibt."
      ],
      "metadata": {
        "id": "wSAIBZ10KXAN"
      }
    },
    {
      "cell_type": "code",
      "source": [
        "True or False"
      ],
      "metadata": {
        "colab": {
          "base_uri": "https://localhost:8080/"
        },
        "id": "td6hYvGaKkDg",
        "outputId": "bd70ab80-1b29-4622-d184-b51af7c9f99b"
      },
      "execution_count": null,
      "outputs": [
        {
          "output_type": "execute_result",
          "data": {
            "text/plain": [
              "True"
            ]
          },
          "metadata": {},
          "execution_count": 83
        }
      ]
    },
    {
      "cell_type": "code",
      "source": [
        "False or False"
      ],
      "metadata": {
        "colab": {
          "base_uri": "https://localhost:8080/"
        },
        "id": "q1YnwypEKmV6",
        "outputId": "0db07d33-a34a-4c2c-f890-367b655c47cf"
      },
      "execution_count": null,
      "outputs": [
        {
          "output_type": "execute_result",
          "data": {
            "text/plain": [
              "False"
            ]
          },
          "metadata": {},
          "execution_count": 84
        }
      ]
    },
    {
      "cell_type": "code",
      "source": [
        "True or True"
      ],
      "metadata": {
        "colab": {
          "base_uri": "https://localhost:8080/"
        },
        "id": "IahPmDaSKn8m",
        "outputId": "46cddc16-8d09-4fd8-d0d0-70de2ac6fcae"
      },
      "execution_count": null,
      "outputs": [
        {
          "output_type": "execute_result",
          "data": {
            "text/plain": [
              "True"
            ]
          },
          "metadata": {},
          "execution_count": 85
        }
      ]
    },
    {
      "cell_type": "markdown",
      "source": [
        "Natürlich schreibt man das nicht explizit mit `True` und `False`-Werten, sondern nutzt dafür die Conditions, wie oben im `elif`-Statement."
      ],
      "metadata": {
        "id": "t9iQiiLKKqlr"
      }
    },
    {
      "cell_type": "code",
      "source": [
        "2 < 3 and 4 == 4"
      ],
      "metadata": {
        "colab": {
          "base_uri": "https://localhost:8080/"
        },
        "id": "gmJvl2RzK5Hr",
        "outputId": "eb9e9ad3-ee47-4756-ed2b-a8b745e0f4da"
      },
      "execution_count": null,
      "outputs": [
        {
          "output_type": "execute_result",
          "data": {
            "text/plain": [
              "True"
            ]
          },
          "metadata": {},
          "execution_count": 86
        }
      ]
    },
    {
      "cell_type": "markdown",
      "source": [
        "## Schleifen\n",
        "\n",
        "Wir haben oben bereits Listen, Sets und Dictionaries kennengelernt, die alle aus einer Ansammmlung einzelner Elemente bestehen.\n",
        "\n",
        "Wenn wir jedes der Elemente in diesen Datentypen anschauen und eventuell verändern möchten, dann brauchen wir dafür eine Schleife. Die gängigste Schleife ist die `for`-Schleife.\n",
        "\n",
        "Wenn wir über unsere Liste `cats` iterieren wollen (so nennt man das, wenn man sich mit einer Schleife jedes Element in einer Liste anschaut) schreiben wir die for-Schleife wie folgt:"
      ],
      "metadata": {
        "id": "OWPQNJ15-cu1"
      }
    },
    {
      "cell_type": "code",
      "source": [
        "for cat in cats:\n",
        "  print(cat)"
      ],
      "metadata": {
        "colab": {
          "base_uri": "https://localhost:8080/"
        },
        "id": "9A7GZtD_ATwq",
        "outputId": "5625879a-9750-4e3b-87b8-e23193ba5131"
      },
      "execution_count": null,
      "outputs": [
        {
          "output_type": "stream",
          "name": "stdout",
          "text": [
            "Bengal\n",
            "German Rex\n",
            "Highlander\n",
            "European Shorthair\n"
          ]
        }
      ]
    },
    {
      "cell_type": "markdown",
      "source": [
        "Das ging jetzt ziemlich schnell. Um das ein bisschen langsamer zu machen, pausieren wir die Schleife bei jeder Runde für eine Sekunde. Was hier genau passiert, ist noch nicht so wichtig. Ich will nur die Schleife besser veranschaulichen."
      ],
      "metadata": {
        "id": "kQkumYCMAgfb"
      }
    },
    {
      "cell_type": "code",
      "source": [
        "from time import sleep\n",
        "\n",
        "for cat in cats:\n",
        "  print(cat)\n",
        "  sleep(1)"
      ],
      "metadata": {
        "colab": {
          "base_uri": "https://localhost:8080/"
        },
        "id": "trhIaE6zAYjy",
        "outputId": "3f3ce1dc-a771-4ed4-951b-1ba81f86e729"
      },
      "execution_count": null,
      "outputs": [
        {
          "output_type": "stream",
          "name": "stdout",
          "text": [
            "Bengal\n",
            "German Rex\n",
            "Highlander\n",
            "European Shorthair\n"
          ]
        }
      ]
    },
    {
      "cell_type": "markdown",
      "source": [
        "Das heißt, dass Python für jedes Element (`cat`) aus der Liste `cats` einmal die `print()`-Funktion aufrufen.\n",
        "\n",
        "Wir können die Liste so aber nicht verändern, weil wir nur die Variable `cat` verändern würden, ohne sie zurück in die Liste zu schreiben:"
      ],
      "metadata": {
        "id": "WZa2dMZJBi5j"
      }
    },
    {
      "cell_type": "code",
      "source": [
        "for cat in cats:\n",
        "  cat = \"dog\"\n",
        "\n",
        "cats"
      ],
      "metadata": {
        "colab": {
          "base_uri": "https://localhost:8080/"
        },
        "id": "tT8XzD5YCgwc",
        "outputId": "20567886-f4bf-4f7e-bc51-ef6179845037"
      },
      "execution_count": null,
      "outputs": [
        {
          "output_type": "execute_result",
          "data": {
            "text/plain": [
              "['Bengal', 'German Rex', 'Highlander', 'European Shorthair']"
            ]
          },
          "metadata": {},
          "execution_count": 64
        }
      ]
    },
    {
      "cell_type": "markdown",
      "source": [
        "Um die Liste verändern zu können, müssen wir direkt, also mit den eckigen Klammern auf die Liste zugreifen. Dafür können wir die `enumerate()`-Funktion verwenden. Mit ihr bekommen wir zwei Werte zurück: Den Index den wir in die eckigen Klammern schreiben können und den Wert:"
      ],
      "metadata": {
        "id": "xgcKDlbeCyv6"
      }
    },
    {
      "cell_type": "code",
      "source": [
        "for i, cat in enumerate(cats):\n",
        "  print(i)\n",
        "  print(cat)"
      ],
      "metadata": {
        "colab": {
          "base_uri": "https://localhost:8080/"
        },
        "id": "6lWatf2cE3QS",
        "outputId": "12818872-4e1f-4a9b-9ac0-cec88c0ae555"
      },
      "execution_count": null,
      "outputs": [
        {
          "output_type": "stream",
          "name": "stdout",
          "text": [
            "0\n",
            "Bengal\n",
            "1\n",
            "German Rex\n",
            "2\n",
            "Highlander\n",
            "3\n",
            "European Shorthair\n"
          ]
        }
      ]
    },
    {
      "cell_type": "markdown",
      "source": [
        "Und wenn wir die Liste verändern wollen, schreiben wir das so:"
      ],
      "metadata": {
        "id": "h19viNS-FQts"
      }
    },
    {
      "cell_type": "code",
      "source": [
        "for i, cat in enumerate(cats):\n",
        "  cats[i] = \"dog\"\n",
        "\n",
        "cats"
      ],
      "metadata": {
        "colab": {
          "base_uri": "https://localhost:8080/"
        },
        "id": "eyL2jeabFUCG",
        "outputId": "93c97798-0bd2-44fb-b9a8-e86764245dc1"
      },
      "execution_count": null,
      "outputs": [
        {
          "output_type": "execute_result",
          "data": {
            "text/plain": [
              "['dog', 'dog', 'dog', 'dog']"
            ]
          },
          "metadata": {},
          "execution_count": 69
        }
      ]
    },
    {
      "cell_type": "markdown",
      "source": [
        "Ein seltener verwendeter Schleifentyp ist die `while`-Schleife. Diese wird so lange ausgeführt, bis eine gewisse Condition erfüllt ist:"
      ],
      "metadata": {
        "id": "fsRLsMvCFpCM"
      }
    },
    {
      "cell_type": "code",
      "source": [
        "i = 0\n",
        "\n",
        "while(i < 10):\n",
        "  print(i)\n",
        "  i = i + 1"
      ],
      "metadata": {
        "colab": {
          "base_uri": "https://localhost:8080/"
        },
        "id": "X9K0NsMALHKW",
        "outputId": "d1332a64-f61c-4caa-863f-6c15cad2fd75"
      },
      "execution_count": null,
      "outputs": [
        {
          "output_type": "stream",
          "name": "stdout",
          "text": [
            "0\n",
            "1\n",
            "2\n",
            "3\n",
            "4\n",
            "5\n",
            "6\n",
            "7\n",
            "8\n",
            "9\n"
          ]
        }
      ]
    },
    {
      "cell_type": "markdown",
      "source": [
        "## Import von Modulen"
      ],
      "metadata": {
        "id": "IJ5IjDd7nzJF"
      }
    }
  ]
}